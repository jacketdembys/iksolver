{
 "cells": [
  {
   "cell_type": "code",
   "execution_count": 45,
   "id": "644bb433-1e7b-4911-b617-27a5dc7e14dd",
   "metadata": {},
   "outputs": [
    {
     "name": "stdout",
     "output_type": "stream",
     "text": [
      "Requirement already satisfied: kaleido in /home/retina/dembysj/.conda/envs/wcci_24/lib/python3.11/site-packages (0.2.1)\n",
      "Collecting plotly==5.15.0\n",
      "  Downloading plotly-5.15.0-py2.py3-none-any.whl.metadata (7.0 kB)\n",
      "Requirement already satisfied: tenacity>=6.2.0 in /home/retina/dembysj/.conda/envs/wcci_24/lib/python3.11/site-packages (from plotly==5.15.0) (8.2.3)\n",
      "Requirement already satisfied: packaging in /home/retina/dembysj/.conda/envs/wcci_24/lib/python3.11/site-packages (from plotly==5.15.0) (23.2)\n",
      "Downloading plotly-5.15.0-py2.py3-none-any.whl (15.5 MB)\n",
      "\u001b[2K   \u001b[90m━━━━━━━━━━━━━━━━━━━━━━━━━━━━━━━━━━━━━━━━\u001b[0m \u001b[32m15.5/15.5 MB\u001b[0m \u001b[31m3.5 MB/s\u001b[0m eta \u001b[36m0:00:00\u001b[0m:00:01\u001b[0m00:01\u001b[0m\n",
      "\u001b[?25hInstalling collected packages: plotly\n",
      "  Attempting uninstall: plotly\n",
      "    Found existing installation: plotly 5.18.0\n",
      "    Uninstalling plotly-5.18.0:\n",
      "      Successfully uninstalled plotly-5.18.0\n",
      "Successfully installed plotly-5.15.0\n"
     ]
    }
   ],
   "source": [
    "!pip install -U kaleido\n",
    "!pip install plotly==5.15.0"
   ]
  },
  {
   "cell_type": "code",
   "execution_count": 39,
   "id": "bbefeafb-d1ca-43aa-ac08-f6c624f0922f",
   "metadata": {},
   "outputs": [],
   "source": [
    "import plotly\n",
    "import pandas as pd\n",
    "import numpy as np"
   ]
  },
  {
   "cell_type": "code",
   "execution_count": 40,
   "id": "db98b693-3d9c-4830-9b23-2f0b838b346c",
   "metadata": {},
   "outputs": [
    {
     "data": {
      "text/html": [
       "<div>\n",
       "<style scoped>\n",
       "    .dataframe tbody tr th:only-of-type {\n",
       "        vertical-align: middle;\n",
       "    }\n",
       "\n",
       "    .dataframe tbody tr th {\n",
       "        vertical-align: top;\n",
       "    }\n",
       "\n",
       "    .dataframe thead th {\n",
       "        text-align: right;\n",
       "    }\n",
       "</style>\n",
       "<table border=\"1\" class=\"dataframe\">\n",
       "  <thead>\n",
       "    <tr style=\"text-align: right;\">\n",
       "      <th></th>\n",
       "      <th>device_name</th>\n",
       "      <th>data_size</th>\n",
       "      <th>joints_scale</th>\n",
       "      <th>architecture</th>\n",
       "      <th>network</th>\n",
       "      <th>layers</th>\n",
       "      <th>neurons</th>\n",
       "      <th>optimizer</th>\n",
       "      <th>loss</th>\n",
       "      <th>completed_epochs</th>\n",
       "      <th>...</th>\n",
       "      <th>pi_percent_5(deg)</th>\n",
       "      <th>min_ya(deg)</th>\n",
       "      <th>avg_ya(deg)</th>\n",
       "      <th>max_ya(deg)</th>\n",
       "      <th>std_ya(deg)</th>\n",
       "      <th>ya_percent_1(deg)</th>\n",
       "      <th>ya_percent_2(deg)</th>\n",
       "      <th>ya_percent_3(deg)</th>\n",
       "      <th>ya_percent_4(deg)</th>\n",
       "      <th>ya_percent_5(deg)</th>\n",
       "    </tr>\n",
       "  </thead>\n",
       "  <tbody>\n",
       "    <tr>\n",
       "      <th>0</th>\n",
       "      <td>NVIDIA GeForce RTX 3090</td>\n",
       "      <td>1000000</td>\n",
       "      <td>10</td>\n",
       "      <td>MLP [6, 1024, 1024, 1024, 1024, 1024, 1024, 10...</td>\n",
       "      <td>MLP</td>\n",
       "      <td>12</td>\n",
       "      <td>1024</td>\n",
       "      <td>Adam</td>\n",
       "      <td>lq</td>\n",
       "      <td>999</td>\n",
       "      <td>...</td>\n",
       "      <td>9.750000</td>\n",
       "      <td>0.002305</td>\n",
       "      <td>81.076294</td>\n",
       "      <td>179.994583</td>\n",
       "      <td>52.059708</td>\n",
       "      <td>0.760000</td>\n",
       "      <td>1.522222</td>\n",
       "      <td>2.271111</td>\n",
       "      <td>3.021111</td>\n",
       "      <td>3.747778</td>\n",
       "    </tr>\n",
       "    <tr>\n",
       "      <th>1</th>\n",
       "      <td>NVIDIA GeForce RTX 2080 Ti</td>\n",
       "      <td>1000000</td>\n",
       "      <td>10</td>\n",
       "      <td>MLP [19, 1024, 7]</td>\n",
       "      <td>MLP</td>\n",
       "      <td>1</td>\n",
       "      <td>1024</td>\n",
       "      <td>Adam</td>\n",
       "      <td>lq</td>\n",
       "      <td>999</td>\n",
       "      <td>...</td>\n",
       "      <td>9.122222</td>\n",
       "      <td>0.001753</td>\n",
       "      <td>75.325226</td>\n",
       "      <td>179.999435</td>\n",
       "      <td>49.546028</td>\n",
       "      <td>0.713333</td>\n",
       "      <td>1.476667</td>\n",
       "      <td>2.260000</td>\n",
       "      <td>3.021111</td>\n",
       "      <td>3.746667</td>\n",
       "    </tr>\n",
       "    <tr>\n",
       "      <th>2</th>\n",
       "      <td>NVIDIA GeForce RTX 3090</td>\n",
       "      <td>1000000</td>\n",
       "      <td>10</td>\n",
       "      <td>ResMLP [6, 1024, 5, 7]</td>\n",
       "      <td>ResMLP</td>\n",
       "      <td>1</td>\n",
       "      <td>1024</td>\n",
       "      <td>Adam</td>\n",
       "      <td>lq</td>\n",
       "      <td>999</td>\n",
       "      <td>...</td>\n",
       "      <td>11.372222</td>\n",
       "      <td>0.000350</td>\n",
       "      <td>69.813354</td>\n",
       "      <td>179.999786</td>\n",
       "      <td>52.100471</td>\n",
       "      <td>1.077778</td>\n",
       "      <td>2.185556</td>\n",
       "      <td>3.336667</td>\n",
       "      <td>4.461111</td>\n",
       "      <td>5.558889</td>\n",
       "    </tr>\n",
       "    <tr>\n",
       "      <th>3</th>\n",
       "      <td>NVIDIA GeForce RTX 2080 Ti</td>\n",
       "      <td>1000000</td>\n",
       "      <td>10</td>\n",
       "      <td>ResMLP [19, 1024, 5, 7]</td>\n",
       "      <td>ResMLP</td>\n",
       "      <td>1</td>\n",
       "      <td>1024</td>\n",
       "      <td>Adam</td>\n",
       "      <td>lq</td>\n",
       "      <td>999</td>\n",
       "      <td>...</td>\n",
       "      <td>99.997778</td>\n",
       "      <td>0.000012</td>\n",
       "      <td>0.301581</td>\n",
       "      <td>8.321875</td>\n",
       "      <td>0.305597</td>\n",
       "      <td>97.228889</td>\n",
       "      <td>99.658889</td>\n",
       "      <td>99.908889</td>\n",
       "      <td>99.974444</td>\n",
       "      <td>99.990000</td>\n",
       "    </tr>\n",
       "    <tr>\n",
       "      <th>4</th>\n",
       "      <td>NVIDIA GeForce RTX 3090</td>\n",
       "      <td>1000000</td>\n",
       "      <td>10</td>\n",
       "      <td>DenseMLP [6, 1024, 5, 7]</td>\n",
       "      <td>DenseMLP</td>\n",
       "      <td>1</td>\n",
       "      <td>1024</td>\n",
       "      <td>Adam</td>\n",
       "      <td>lq</td>\n",
       "      <td>999</td>\n",
       "      <td>...</td>\n",
       "      <td>10.415556</td>\n",
       "      <td>0.000023</td>\n",
       "      <td>73.777336</td>\n",
       "      <td>179.998810</td>\n",
       "      <td>52.159649</td>\n",
       "      <td>0.998889</td>\n",
       "      <td>1.915556</td>\n",
       "      <td>2.917778</td>\n",
       "      <td>3.917778</td>\n",
       "      <td>4.872222</td>\n",
       "    </tr>\n",
       "    <tr>\n",
       "      <th>5</th>\n",
       "      <td>NVIDIA GeForce RTX 3090</td>\n",
       "      <td>1000000</td>\n",
       "      <td>10</td>\n",
       "      <td>DenseMLP [19, 1024, 5, 7]</td>\n",
       "      <td>DenseMLP</td>\n",
       "      <td>1</td>\n",
       "      <td>1024</td>\n",
       "      <td>Adam</td>\n",
       "      <td>lq</td>\n",
       "      <td>999</td>\n",
       "      <td>...</td>\n",
       "      <td>99.996667</td>\n",
       "      <td>0.000003</td>\n",
       "      <td>0.194130</td>\n",
       "      <td>6.577154</td>\n",
       "      <td>0.200518</td>\n",
       "      <td>99.187778</td>\n",
       "      <td>99.916667</td>\n",
       "      <td>99.976667</td>\n",
       "      <td>99.994444</td>\n",
       "      <td>99.997778</td>\n",
       "    </tr>\n",
       "  </tbody>\n",
       "</table>\n",
       "<p>6 rows × 68 columns</p>\n",
       "</div>"
      ],
      "text/plain": [
       "                  device_name  data_size  joints_scale  \\\n",
       "0     NVIDIA GeForce RTX 3090    1000000            10   \n",
       "1  NVIDIA GeForce RTX 2080 Ti    1000000            10   \n",
       "2     NVIDIA GeForce RTX 3090    1000000            10   \n",
       "3  NVIDIA GeForce RTX 2080 Ti    1000000            10   \n",
       "4     NVIDIA GeForce RTX 3090    1000000            10   \n",
       "5     NVIDIA GeForce RTX 3090    1000000            10   \n",
       "\n",
       "                                        architecture   network  layers  \\\n",
       "0  MLP [6, 1024, 1024, 1024, 1024, 1024, 1024, 10...       MLP      12   \n",
       "1                                  MLP [19, 1024, 7]       MLP       1   \n",
       "2                             ResMLP [6, 1024, 5, 7]    ResMLP       1   \n",
       "3                            ResMLP [19, 1024, 5, 7]    ResMLP       1   \n",
       "4                           DenseMLP [6, 1024, 5, 7]  DenseMLP       1   \n",
       "5                          DenseMLP [19, 1024, 5, 7]  DenseMLP       1   \n",
       "\n",
       "   neurons optimizer loss  completed_epochs  ...  pi_percent_5(deg)  \\\n",
       "0     1024      Adam   lq               999  ...           9.750000   \n",
       "1     1024      Adam   lq               999  ...           9.122222   \n",
       "2     1024      Adam   lq               999  ...          11.372222   \n",
       "3     1024      Adam   lq               999  ...          99.997778   \n",
       "4     1024      Adam   lq               999  ...          10.415556   \n",
       "5     1024      Adam   lq               999  ...          99.996667   \n",
       "\n",
       "  min_ya(deg)  avg_ya(deg)  max_ya(deg)  std_ya(deg)  ya_percent_1(deg)  \\\n",
       "0    0.002305    81.076294   179.994583    52.059708           0.760000   \n",
       "1    0.001753    75.325226   179.999435    49.546028           0.713333   \n",
       "2    0.000350    69.813354   179.999786    52.100471           1.077778   \n",
       "3    0.000012     0.301581     8.321875     0.305597          97.228889   \n",
       "4    0.000023    73.777336   179.998810    52.159649           0.998889   \n",
       "5    0.000003     0.194130     6.577154     0.200518          99.187778   \n",
       "\n",
       "   ya_percent_2(deg)  ya_percent_3(deg)  ya_percent_4(deg)  ya_percent_5(deg)  \n",
       "0           1.522222           2.271111           3.021111           3.747778  \n",
       "1           1.476667           2.260000           3.021111           3.746667  \n",
       "2           2.185556           3.336667           4.461111           5.558889  \n",
       "3          99.658889          99.908889          99.974444          99.990000  \n",
       "4           1.915556           2.917778           3.917778           4.872222  \n",
       "5          99.916667          99.976667          99.994444          99.997778  \n",
       "\n",
       "[6 rows x 68 columns]"
      ]
     },
     "execution_count": 40,
     "metadata": {},
     "output_type": "execute_result"
    }
   ],
   "source": [
    "data = pd.read_csv(\"../ikresults/results_input_variations_2.csv\")\n",
    "data"
   ]
  },
  {
   "cell_type": "code",
   "execution_count": 41,
   "id": "d63feb22-1be1-469e-ab3d-a38329b1aa67",
   "metadata": {},
   "outputs": [],
   "source": [
    "data_plot_pos = []\n",
    "data_plot_pos_min = []\n",
    "data_plot_pos_max = []\n",
    "data_plot_ori = []\n",
    "\n",
    "layers_pose = pd.DataFrame(data, columns = ['average_position_error(mm)', 'average_orientation_error(deg)'])\n",
    "data_plot_pose = layers_pose.to_numpy()\n",
    "\n",
    "layers_pos = pd.DataFrame(data, columns = ['avg_x(mm)', 'avg_y(mm)', 'avg_z(mm)'])\n",
    "data_plot_pos = layers_pos.to_numpy()\n",
    "\n",
    "layers_ori = pd.DataFrame(data, columns = ['avg_ro(deg)', 'avg_pi(deg)', 'avg_ya(deg)'])\n",
    "data_plot_ori = layers_ori.to_numpy()"
   ]
  },
  {
   "cell_type": "code",
   "execution_count": 44,
   "id": "91e505ed-337a-4c1a-994a-048251415bef",
   "metadata": {
    "scrolled": true
   },
   "outputs": [
    {
     "data": {
      "application/vnd.plotly.v1+json": {
       "config": {
        "plotlyServerURL": "https://plot.ly"
       },
       "data": [
        {
         "marker": {
          "color": "#1f77b4"
         },
         "name": "MLP(R)",
         "textangle": 0,
         "textfont": {
          "size": 10
         },
         "textposition": "outside",
         "texttemplate": "%{y:.1f}",
         "type": "bar",
         "x": [
          "$x$",
          "$y$",
          "$z$"
         ],
         "xaxis": "x",
         "y": [
          123.663833618164,
          282.710571289062,
          87.4685745239258
         ],
         "yaxis": "y"
        },
        {
         "marker": {
          "color": "#1f77b4"
         },
         "showlegend": false,
         "textangle": 0,
         "textfont": {
          "size": 10
         },
         "textposition": "outside",
         "texttemplate": "%{y:.1f}",
         "type": "bar",
         "x": [
          "$ro$",
          "$pi$",
          "$ya$"
         ],
         "xaxis": "x2",
         "y": [
          66.1697235107422,
          30.9611053466797,
          81.0762939453125
         ],
         "yaxis": "y2"
        },
        {
         "marker": {
          "color": "#ff7f0e"
         },
         "name": "MLP(T)",
         "textangle": 0,
         "textfont": {
          "size": 10
         },
         "textposition": "outside",
         "texttemplate": "%{y:.1f}",
         "type": "bar",
         "x": [
          "$x$",
          "$y$",
          "$z$"
         ],
         "xaxis": "x",
         "y": [
          163.171371459961,
          156.084930419922,
          125.989051818848
         ],
         "yaxis": "y"
        },
        {
         "marker": {
          "color": "#ff7f0e"
         },
         "showlegend": false,
         "textangle": 0,
         "textfont": {
          "size": 10
         },
         "textposition": "outside",
         "texttemplate": "%{y:.1f}",
         "type": "bar",
         "x": [
          "$ro$",
          "$pi$",
          "$ya$"
         ],
         "xaxis": "x2",
         "y": [
          71.1595687866211,
          31.7465476989746,
          75.3252258300781
         ],
         "yaxis": "y2"
        },
        {
         "marker": {
          "color": "#2ca02c"
         },
         "name": "ResMLP(R)",
         "textangle": 0,
         "textfont": {
          "size": 10
         },
         "textposition": "outside",
         "texttemplate": "%{y:.1f}",
         "type": "bar",
         "x": [
          "$x$",
          "$y$",
          "$z$"
         ],
         "xaxis": "x",
         "y": [
          92.1704177856445,
          249.616195678711,
          78.6986389160156
         ],
         "yaxis": "y"
        },
        {
         "marker": {
          "color": "#2ca02c"
         },
         "showlegend": false,
         "textangle": 0,
         "textfont": {
          "size": 10
         },
         "textposition": "outside",
         "texttemplate": "%{y:.1f}",
         "type": "bar",
         "x": [
          "$ro$",
          "$pi$",
          "$ya$"
         ],
         "xaxis": "x2",
         "y": [
          53.626708984375,
          28.1686725616455,
          69.8133544921875
         ],
         "yaxis": "y2"
        },
        {
         "marker": {
          "color": "#d62728"
         },
         "name": "ResMLP(T)",
         "textangle": 0,
         "textfont": {
          "size": 10
         },
         "textposition": "outside",
         "texttemplate": "%{y:.1f}",
         "type": "bar",
         "x": [
          "$x$",
          "$y$",
          "$z$"
         ],
         "xaxis": "x",
         "y": [
          1.1705926656723,
          1.14491605758667,
          0.81784576177597
         ],
         "yaxis": "y"
        },
        {
         "marker": {
          "color": "#d62728"
         },
         "showlegend": false,
         "textangle": 0,
         "textfont": {
          "size": 10
         },
         "textposition": "outside",
         "texttemplate": "%{y:.1f}",
         "type": "bar",
         "x": [
          "$ro$",
          "$pi$",
          "$ya$"
         ],
         "xaxis": "x2",
         "y": [
          0.216914102435112,
          0.223095521330833,
          0.301580637693405
         ],
         "yaxis": "y2"
        },
        {
         "marker": {
          "color": "#9467bd"
         },
         "name": "DenseMLP(R)",
         "textangle": 0,
         "textfont": {
          "size": 10
         },
         "textposition": "outside",
         "texttemplate": "%{y:.1f}",
         "type": "bar",
         "x": [
          "$x$",
          "$y$",
          "$z$"
         ],
         "xaxis": "x",
         "y": [
          98.2316207885742,
          252.718032836914,
          77.8825073242188
         ],
         "yaxis": "y"
        },
        {
         "marker": {
          "color": "#9467bd"
         },
         "showlegend": false,
         "textangle": 0,
         "textfont": {
          "size": 10
         },
         "textposition": "outside",
         "texttemplate": "%{y:.1f}",
         "type": "bar",
         "x": [
          "$ro$",
          "$pi$",
          "$ya$"
         ],
         "xaxis": "x2",
         "y": [
          57.4709777832031,
          29.5501842498779,
          73.7773361206055
         ],
         "yaxis": "y2"
        },
        {
         "marker": {
          "color": "#8c564b"
         },
         "name": "DenseMLP(T)",
         "textangle": 0,
         "textfont": {
          "size": 10
         },
         "textposition": "outside",
         "texttemplate": "%{y:.1f}",
         "type": "bar",
         "x": [
          "$x$",
          "$y$",
          "$z$"
         ],
         "xaxis": "x",
         "y": [
          0.740371286869049,
          0.724760591983795,
          0.516880929470062
         ],
         "yaxis": "y"
        },
        {
         "marker": {
          "color": "#8c564b"
         },
         "showlegend": false,
         "textangle": 0,
         "textfont": {
          "size": 10
         },
         "textposition": "outside",
         "texttemplate": "%{y:.1f}",
         "type": "bar",
         "x": [
          "$ro$",
          "$pi$",
          "$ya$"
         ],
         "xaxis": "x2",
         "y": [
          0.14450304210186,
          0.146896690130234,
          0.194130182266235
         ],
         "yaxis": "y2"
        }
       ],
       "layout": {
        "barmode": "group",
        "font": {
         "size": 15
        },
        "height": 500,
        "legend": {
         "font": {
          "size": 13
         },
         "orientation": "h",
         "x": 0,
         "xanchor": "left",
         "y": 1.13,
         "yanchor": "top"
        },
        "plot_bgcolor": "white",
        "template": {
         "data": {
          "bar": [
           {
            "error_x": {
             "color": "#2a3f5f"
            },
            "error_y": {
             "color": "#2a3f5f"
            },
            "marker": {
             "line": {
              "color": "#E5ECF6",
              "width": 0.5
             },
             "pattern": {
              "fillmode": "overlay",
              "size": 10,
              "solidity": 0.2
             }
            },
            "type": "bar"
           }
          ],
          "barpolar": [
           {
            "marker": {
             "line": {
              "color": "#E5ECF6",
              "width": 0.5
             },
             "pattern": {
              "fillmode": "overlay",
              "size": 10,
              "solidity": 0.2
             }
            },
            "type": "barpolar"
           }
          ],
          "carpet": [
           {
            "aaxis": {
             "endlinecolor": "#2a3f5f",
             "gridcolor": "white",
             "linecolor": "white",
             "minorgridcolor": "white",
             "startlinecolor": "#2a3f5f"
            },
            "baxis": {
             "endlinecolor": "#2a3f5f",
             "gridcolor": "white",
             "linecolor": "white",
             "minorgridcolor": "white",
             "startlinecolor": "#2a3f5f"
            },
            "type": "carpet"
           }
          ],
          "choropleth": [
           {
            "colorbar": {
             "outlinewidth": 0,
             "ticks": ""
            },
            "type": "choropleth"
           }
          ],
          "contour": [
           {
            "colorbar": {
             "outlinewidth": 0,
             "ticks": ""
            },
            "colorscale": [
             [
              0,
              "#0d0887"
             ],
             [
              0.1111111111111111,
              "#46039f"
             ],
             [
              0.2222222222222222,
              "#7201a8"
             ],
             [
              0.3333333333333333,
              "#9c179e"
             ],
             [
              0.4444444444444444,
              "#bd3786"
             ],
             [
              0.5555555555555556,
              "#d8576b"
             ],
             [
              0.6666666666666666,
              "#ed7953"
             ],
             [
              0.7777777777777778,
              "#fb9f3a"
             ],
             [
              0.8888888888888888,
              "#fdca26"
             ],
             [
              1,
              "#f0f921"
             ]
            ],
            "type": "contour"
           }
          ],
          "contourcarpet": [
           {
            "colorbar": {
             "outlinewidth": 0,
             "ticks": ""
            },
            "type": "contourcarpet"
           }
          ],
          "heatmap": [
           {
            "colorbar": {
             "outlinewidth": 0,
             "ticks": ""
            },
            "colorscale": [
             [
              0,
              "#0d0887"
             ],
             [
              0.1111111111111111,
              "#46039f"
             ],
             [
              0.2222222222222222,
              "#7201a8"
             ],
             [
              0.3333333333333333,
              "#9c179e"
             ],
             [
              0.4444444444444444,
              "#bd3786"
             ],
             [
              0.5555555555555556,
              "#d8576b"
             ],
             [
              0.6666666666666666,
              "#ed7953"
             ],
             [
              0.7777777777777778,
              "#fb9f3a"
             ],
             [
              0.8888888888888888,
              "#fdca26"
             ],
             [
              1,
              "#f0f921"
             ]
            ],
            "type": "heatmap"
           }
          ],
          "heatmapgl": [
           {
            "colorbar": {
             "outlinewidth": 0,
             "ticks": ""
            },
            "colorscale": [
             [
              0,
              "#0d0887"
             ],
             [
              0.1111111111111111,
              "#46039f"
             ],
             [
              0.2222222222222222,
              "#7201a8"
             ],
             [
              0.3333333333333333,
              "#9c179e"
             ],
             [
              0.4444444444444444,
              "#bd3786"
             ],
             [
              0.5555555555555556,
              "#d8576b"
             ],
             [
              0.6666666666666666,
              "#ed7953"
             ],
             [
              0.7777777777777778,
              "#fb9f3a"
             ],
             [
              0.8888888888888888,
              "#fdca26"
             ],
             [
              1,
              "#f0f921"
             ]
            ],
            "type": "heatmapgl"
           }
          ],
          "histogram": [
           {
            "marker": {
             "pattern": {
              "fillmode": "overlay",
              "size": 10,
              "solidity": 0.2
             }
            },
            "type": "histogram"
           }
          ],
          "histogram2d": [
           {
            "colorbar": {
             "outlinewidth": 0,
             "ticks": ""
            },
            "colorscale": [
             [
              0,
              "#0d0887"
             ],
             [
              0.1111111111111111,
              "#46039f"
             ],
             [
              0.2222222222222222,
              "#7201a8"
             ],
             [
              0.3333333333333333,
              "#9c179e"
             ],
             [
              0.4444444444444444,
              "#bd3786"
             ],
             [
              0.5555555555555556,
              "#d8576b"
             ],
             [
              0.6666666666666666,
              "#ed7953"
             ],
             [
              0.7777777777777778,
              "#fb9f3a"
             ],
             [
              0.8888888888888888,
              "#fdca26"
             ],
             [
              1,
              "#f0f921"
             ]
            ],
            "type": "histogram2d"
           }
          ],
          "histogram2dcontour": [
           {
            "colorbar": {
             "outlinewidth": 0,
             "ticks": ""
            },
            "colorscale": [
             [
              0,
              "#0d0887"
             ],
             [
              0.1111111111111111,
              "#46039f"
             ],
             [
              0.2222222222222222,
              "#7201a8"
             ],
             [
              0.3333333333333333,
              "#9c179e"
             ],
             [
              0.4444444444444444,
              "#bd3786"
             ],
             [
              0.5555555555555556,
              "#d8576b"
             ],
             [
              0.6666666666666666,
              "#ed7953"
             ],
             [
              0.7777777777777778,
              "#fb9f3a"
             ],
             [
              0.8888888888888888,
              "#fdca26"
             ],
             [
              1,
              "#f0f921"
             ]
            ],
            "type": "histogram2dcontour"
           }
          ],
          "mesh3d": [
           {
            "colorbar": {
             "outlinewidth": 0,
             "ticks": ""
            },
            "type": "mesh3d"
           }
          ],
          "parcoords": [
           {
            "line": {
             "colorbar": {
              "outlinewidth": 0,
              "ticks": ""
             }
            },
            "type": "parcoords"
           }
          ],
          "pie": [
           {
            "automargin": true,
            "type": "pie"
           }
          ],
          "scatter": [
           {
            "fillpattern": {
             "fillmode": "overlay",
             "size": 10,
             "solidity": 0.2
            },
            "type": "scatter"
           }
          ],
          "scatter3d": [
           {
            "line": {
             "colorbar": {
              "outlinewidth": 0,
              "ticks": ""
             }
            },
            "marker": {
             "colorbar": {
              "outlinewidth": 0,
              "ticks": ""
             }
            },
            "type": "scatter3d"
           }
          ],
          "scattercarpet": [
           {
            "marker": {
             "colorbar": {
              "outlinewidth": 0,
              "ticks": ""
             }
            },
            "type": "scattercarpet"
           }
          ],
          "scattergeo": [
           {
            "marker": {
             "colorbar": {
              "outlinewidth": 0,
              "ticks": ""
             }
            },
            "type": "scattergeo"
           }
          ],
          "scattergl": [
           {
            "marker": {
             "colorbar": {
              "outlinewidth": 0,
              "ticks": ""
             }
            },
            "type": "scattergl"
           }
          ],
          "scattermapbox": [
           {
            "marker": {
             "colorbar": {
              "outlinewidth": 0,
              "ticks": ""
             }
            },
            "type": "scattermapbox"
           }
          ],
          "scatterpolar": [
           {
            "marker": {
             "colorbar": {
              "outlinewidth": 0,
              "ticks": ""
             }
            },
            "type": "scatterpolar"
           }
          ],
          "scatterpolargl": [
           {
            "marker": {
             "colorbar": {
              "outlinewidth": 0,
              "ticks": ""
             }
            },
            "type": "scatterpolargl"
           }
          ],
          "scatterternary": [
           {
            "marker": {
             "colorbar": {
              "outlinewidth": 0,
              "ticks": ""
             }
            },
            "type": "scatterternary"
           }
          ],
          "surface": [
           {
            "colorbar": {
             "outlinewidth": 0,
             "ticks": ""
            },
            "colorscale": [
             [
              0,
              "#0d0887"
             ],
             [
              0.1111111111111111,
              "#46039f"
             ],
             [
              0.2222222222222222,
              "#7201a8"
             ],
             [
              0.3333333333333333,
              "#9c179e"
             ],
             [
              0.4444444444444444,
              "#bd3786"
             ],
             [
              0.5555555555555556,
              "#d8576b"
             ],
             [
              0.6666666666666666,
              "#ed7953"
             ],
             [
              0.7777777777777778,
              "#fb9f3a"
             ],
             [
              0.8888888888888888,
              "#fdca26"
             ],
             [
              1,
              "#f0f921"
             ]
            ],
            "type": "surface"
           }
          ],
          "table": [
           {
            "cells": {
             "fill": {
              "color": "#EBF0F8"
             },
             "line": {
              "color": "white"
             }
            },
            "header": {
             "fill": {
              "color": "#C8D4E3"
             },
             "line": {
              "color": "white"
             }
            },
            "type": "table"
           }
          ]
         },
         "layout": {
          "annotationdefaults": {
           "arrowcolor": "#2a3f5f",
           "arrowhead": 0,
           "arrowwidth": 1
          },
          "autotypenumbers": "strict",
          "coloraxis": {
           "colorbar": {
            "outlinewidth": 0,
            "ticks": ""
           }
          },
          "colorscale": {
           "diverging": [
            [
             0,
             "#8e0152"
            ],
            [
             0.1,
             "#c51b7d"
            ],
            [
             0.2,
             "#de77ae"
            ],
            [
             0.3,
             "#f1b6da"
            ],
            [
             0.4,
             "#fde0ef"
            ],
            [
             0.5,
             "#f7f7f7"
            ],
            [
             0.6,
             "#e6f5d0"
            ],
            [
             0.7,
             "#b8e186"
            ],
            [
             0.8,
             "#7fbc41"
            ],
            [
             0.9,
             "#4d9221"
            ],
            [
             1,
             "#276419"
            ]
           ],
           "sequential": [
            [
             0,
             "#0d0887"
            ],
            [
             0.1111111111111111,
             "#46039f"
            ],
            [
             0.2222222222222222,
             "#7201a8"
            ],
            [
             0.3333333333333333,
             "#9c179e"
            ],
            [
             0.4444444444444444,
             "#bd3786"
            ],
            [
             0.5555555555555556,
             "#d8576b"
            ],
            [
             0.6666666666666666,
             "#ed7953"
            ],
            [
             0.7777777777777778,
             "#fb9f3a"
            ],
            [
             0.8888888888888888,
             "#fdca26"
            ],
            [
             1,
             "#f0f921"
            ]
           ],
           "sequentialminus": [
            [
             0,
             "#0d0887"
            ],
            [
             0.1111111111111111,
             "#46039f"
            ],
            [
             0.2222222222222222,
             "#7201a8"
            ],
            [
             0.3333333333333333,
             "#9c179e"
            ],
            [
             0.4444444444444444,
             "#bd3786"
            ],
            [
             0.5555555555555556,
             "#d8576b"
            ],
            [
             0.6666666666666666,
             "#ed7953"
            ],
            [
             0.7777777777777778,
             "#fb9f3a"
            ],
            [
             0.8888888888888888,
             "#fdca26"
            ],
            [
             1,
             "#f0f921"
            ]
           ]
          },
          "colorway": [
           "#636efa",
           "#EF553B",
           "#00cc96",
           "#ab63fa",
           "#FFA15A",
           "#19d3f3",
           "#FF6692",
           "#B6E880",
           "#FF97FF",
           "#FECB52"
          ],
          "font": {
           "color": "#2a3f5f"
          },
          "geo": {
           "bgcolor": "white",
           "lakecolor": "white",
           "landcolor": "#E5ECF6",
           "showlakes": true,
           "showland": true,
           "subunitcolor": "white"
          },
          "hoverlabel": {
           "align": "left"
          },
          "hovermode": "closest",
          "mapbox": {
           "style": "light"
          },
          "paper_bgcolor": "white",
          "plot_bgcolor": "#E5ECF6",
          "polar": {
           "angularaxis": {
            "gridcolor": "white",
            "linecolor": "white",
            "ticks": ""
           },
           "bgcolor": "#E5ECF6",
           "radialaxis": {
            "gridcolor": "white",
            "linecolor": "white",
            "ticks": ""
           }
          },
          "scene": {
           "xaxis": {
            "backgroundcolor": "#E5ECF6",
            "gridcolor": "white",
            "gridwidth": 2,
            "linecolor": "white",
            "showbackground": true,
            "ticks": "",
            "zerolinecolor": "white"
           },
           "yaxis": {
            "backgroundcolor": "#E5ECF6",
            "gridcolor": "white",
            "gridwidth": 2,
            "linecolor": "white",
            "showbackground": true,
            "ticks": "",
            "zerolinecolor": "white"
           },
           "zaxis": {
            "backgroundcolor": "#E5ECF6",
            "gridcolor": "white",
            "gridwidth": 2,
            "linecolor": "white",
            "showbackground": true,
            "ticks": "",
            "zerolinecolor": "white"
           }
          },
          "shapedefaults": {
           "line": {
            "color": "#2a3f5f"
           }
          },
          "ternary": {
           "aaxis": {
            "gridcolor": "white",
            "linecolor": "white",
            "ticks": ""
           },
           "baxis": {
            "gridcolor": "white",
            "linecolor": "white",
            "ticks": ""
           },
           "bgcolor": "#E5ECF6",
           "caxis": {
            "gridcolor": "white",
            "linecolor": "white",
            "ticks": ""
           }
          },
          "title": {
           "x": 0.05
          },
          "xaxis": {
           "automargin": true,
           "gridcolor": "white",
           "linecolor": "white",
           "ticks": "",
           "title": {
            "standoff": 15
           },
           "zerolinecolor": "white",
           "zerolinewidth": 2
          },
          "yaxis": {
           "automargin": true,
           "gridcolor": "white",
           "linecolor": "white",
           "ticks": "",
           "title": {
            "standoff": 15
           },
           "zerolinecolor": "white",
           "zerolinewidth": 2
          }
         }
        },
        "title": {
         "text": "Position and Orientation Mean Absolute Errors"
        },
        "width": 1200,
        "xaxis": {
         "anchor": "y",
         "autorange": true,
         "domain": [
          0,
          0.45
         ],
         "gridcolor": "lightgrey",
         "linecolor": "black",
         "mirror": true,
         "range": [
          -0.5,
          2.5
         ],
         "showline": true,
         "tickangle": 0,
         "ticks": "outside",
         "type": "category"
        },
        "xaxis2": {
         "anchor": "y2",
         "autorange": true,
         "domain": [
          0.55,
          1
         ],
         "gridcolor": "lightgrey",
         "linecolor": "black",
         "mirror": true,
         "range": [
          -0.5,
          2.5
         ],
         "showline": true,
         "ticks": "outside",
         "type": "category"
        },
        "yaxis": {
         "anchor": "x",
         "domain": [
          0,
          1
         ],
         "gridcolor": "lightgrey",
         "linecolor": "black",
         "mirror": true,
         "range": [
          0,
          200
         ],
         "showline": true,
         "ticks": "outside",
         "title": {
          "text": "Position errors (mm)"
         },
         "type": "linear"
        },
        "yaxis2": {
         "anchor": "x2",
         "autorange": true,
         "domain": [
          0,
          1
         ],
         "gridcolor": "lightgrey",
         "linecolor": "black",
         "mirror": true,
         "range": [
          0,
          85.34346731085526
         ],
         "showline": true,
         "ticks": "outside",
         "title": {
          "text": "Orientation errors (deg)"
         },
         "type": "linear"
        }
       }
      },
      "text/html": [
       "<div>                            <div id=\"e5806250-6305-4ac9-9237-436c8a1464e2\" class=\"plotly-graph-div\" style=\"height:500px; width:1200px;\"></div>            <script type=\"text/javascript\">                require([\"plotly\"], function(Plotly) {                    window.PLOTLYENV=window.PLOTLYENV || {};                                    if (document.getElementById(\"e5806250-6305-4ac9-9237-436c8a1464e2\")) {                    Plotly.newPlot(                        \"e5806250-6305-4ac9-9237-436c8a1464e2\",                        [{\"marker\":{\"color\":\"#1f77b4\"},\"name\":\"MLP(R)\",\"x\":[\"$x$\",\"$y$\",\"$z$\"],\"y\":[123.663833618164,282.710571289062,87.4685745239258],\"type\":\"bar\",\"xaxis\":\"x\",\"yaxis\":\"y\",\"textfont\":{\"size\":10},\"textangle\":0,\"textposition\":\"outside\",\"texttemplate\":\"%{y:.1f}\"},{\"marker\":{\"color\":\"#1f77b4\"},\"showlegend\":false,\"x\":[\"$ro$\",\"$pi$\",\"$ya$\"],\"y\":[66.1697235107422,30.9611053466797,81.0762939453125],\"type\":\"bar\",\"xaxis\":\"x2\",\"yaxis\":\"y2\",\"textfont\":{\"size\":10},\"textangle\":0,\"textposition\":\"outside\",\"texttemplate\":\"%{y:.1f}\"},{\"marker\":{\"color\":\"#ff7f0e\"},\"name\":\"MLP(T)\",\"x\":[\"$x$\",\"$y$\",\"$z$\"],\"y\":[163.171371459961,156.084930419922,125.989051818848],\"type\":\"bar\",\"xaxis\":\"x\",\"yaxis\":\"y\",\"textfont\":{\"size\":10},\"textangle\":0,\"textposition\":\"outside\",\"texttemplate\":\"%{y:.1f}\"},{\"marker\":{\"color\":\"#ff7f0e\"},\"showlegend\":false,\"x\":[\"$ro$\",\"$pi$\",\"$ya$\"],\"y\":[71.1595687866211,31.7465476989746,75.3252258300781],\"type\":\"bar\",\"xaxis\":\"x2\",\"yaxis\":\"y2\",\"textfont\":{\"size\":10},\"textangle\":0,\"textposition\":\"outside\",\"texttemplate\":\"%{y:.1f}\"},{\"marker\":{\"color\":\"#2ca02c\"},\"name\":\"ResMLP(R)\",\"x\":[\"$x$\",\"$y$\",\"$z$\"],\"y\":[92.1704177856445,249.616195678711,78.6986389160156],\"type\":\"bar\",\"xaxis\":\"x\",\"yaxis\":\"y\",\"textfont\":{\"size\":10},\"textangle\":0,\"textposition\":\"outside\",\"texttemplate\":\"%{y:.1f}\"},{\"marker\":{\"color\":\"#2ca02c\"},\"showlegend\":false,\"x\":[\"$ro$\",\"$pi$\",\"$ya$\"],\"y\":[53.626708984375,28.1686725616455,69.8133544921875],\"type\":\"bar\",\"xaxis\":\"x2\",\"yaxis\":\"y2\",\"textfont\":{\"size\":10},\"textangle\":0,\"textposition\":\"outside\",\"texttemplate\":\"%{y:.1f}\"},{\"marker\":{\"color\":\"#d62728\"},\"name\":\"ResMLP(T)\",\"x\":[\"$x$\",\"$y$\",\"$z$\"],\"y\":[1.1705926656723,1.14491605758667,0.81784576177597],\"type\":\"bar\",\"xaxis\":\"x\",\"yaxis\":\"y\",\"textfont\":{\"size\":10},\"textangle\":0,\"textposition\":\"outside\",\"texttemplate\":\"%{y:.1f}\"},{\"marker\":{\"color\":\"#d62728\"},\"showlegend\":false,\"x\":[\"$ro$\",\"$pi$\",\"$ya$\"],\"y\":[0.216914102435112,0.223095521330833,0.301580637693405],\"type\":\"bar\",\"xaxis\":\"x2\",\"yaxis\":\"y2\",\"textfont\":{\"size\":10},\"textangle\":0,\"textposition\":\"outside\",\"texttemplate\":\"%{y:.1f}\"},{\"marker\":{\"color\":\"#9467bd\"},\"name\":\"DenseMLP(R)\",\"x\":[\"$x$\",\"$y$\",\"$z$\"],\"y\":[98.2316207885742,252.718032836914,77.8825073242188],\"type\":\"bar\",\"xaxis\":\"x\",\"yaxis\":\"y\",\"textfont\":{\"size\":10},\"textangle\":0,\"textposition\":\"outside\",\"texttemplate\":\"%{y:.1f}\"},{\"marker\":{\"color\":\"#9467bd\"},\"showlegend\":false,\"x\":[\"$ro$\",\"$pi$\",\"$ya$\"],\"y\":[57.4709777832031,29.5501842498779,73.7773361206055],\"type\":\"bar\",\"xaxis\":\"x2\",\"yaxis\":\"y2\",\"textfont\":{\"size\":10},\"textangle\":0,\"textposition\":\"outside\",\"texttemplate\":\"%{y:.1f}\"},{\"marker\":{\"color\":\"#8c564b\"},\"name\":\"DenseMLP(T)\",\"x\":[\"$x$\",\"$y$\",\"$z$\"],\"y\":[0.740371286869049,0.724760591983795,0.516880929470062],\"type\":\"bar\",\"xaxis\":\"x\",\"yaxis\":\"y\",\"textfont\":{\"size\":10},\"textangle\":0,\"textposition\":\"outside\",\"texttemplate\":\"%{y:.1f}\"},{\"marker\":{\"color\":\"#8c564b\"},\"showlegend\":false,\"x\":[\"$ro$\",\"$pi$\",\"$ya$\"],\"y\":[0.14450304210186,0.146896690130234,0.194130182266235],\"type\":\"bar\",\"xaxis\":\"x2\",\"yaxis\":\"y2\",\"textfont\":{\"size\":10},\"textangle\":0,\"textposition\":\"outside\",\"texttemplate\":\"%{y:.1f}\"}],                        {\"template\":{\"data\":{\"histogram2dcontour\":[{\"type\":\"histogram2dcontour\",\"colorbar\":{\"outlinewidth\":0,\"ticks\":\"\"},\"colorscale\":[[0.0,\"#0d0887\"],[0.1111111111111111,\"#46039f\"],[0.2222222222222222,\"#7201a8\"],[0.3333333333333333,\"#9c179e\"],[0.4444444444444444,\"#bd3786\"],[0.5555555555555556,\"#d8576b\"],[0.6666666666666666,\"#ed7953\"],[0.7777777777777778,\"#fb9f3a\"],[0.8888888888888888,\"#fdca26\"],[1.0,\"#f0f921\"]]}],\"choropleth\":[{\"type\":\"choropleth\",\"colorbar\":{\"outlinewidth\":0,\"ticks\":\"\"}}],\"histogram2d\":[{\"type\":\"histogram2d\",\"colorbar\":{\"outlinewidth\":0,\"ticks\":\"\"},\"colorscale\":[[0.0,\"#0d0887\"],[0.1111111111111111,\"#46039f\"],[0.2222222222222222,\"#7201a8\"],[0.3333333333333333,\"#9c179e\"],[0.4444444444444444,\"#bd3786\"],[0.5555555555555556,\"#d8576b\"],[0.6666666666666666,\"#ed7953\"],[0.7777777777777778,\"#fb9f3a\"],[0.8888888888888888,\"#fdca26\"],[1.0,\"#f0f921\"]]}],\"heatmap\":[{\"type\":\"heatmap\",\"colorbar\":{\"outlinewidth\":0,\"ticks\":\"\"},\"colorscale\":[[0.0,\"#0d0887\"],[0.1111111111111111,\"#46039f\"],[0.2222222222222222,\"#7201a8\"],[0.3333333333333333,\"#9c179e\"],[0.4444444444444444,\"#bd3786\"],[0.5555555555555556,\"#d8576b\"],[0.6666666666666666,\"#ed7953\"],[0.7777777777777778,\"#fb9f3a\"],[0.8888888888888888,\"#fdca26\"],[1.0,\"#f0f921\"]]}],\"heatmapgl\":[{\"type\":\"heatmapgl\",\"colorbar\":{\"outlinewidth\":0,\"ticks\":\"\"},\"colorscale\":[[0.0,\"#0d0887\"],[0.1111111111111111,\"#46039f\"],[0.2222222222222222,\"#7201a8\"],[0.3333333333333333,\"#9c179e\"],[0.4444444444444444,\"#bd3786\"],[0.5555555555555556,\"#d8576b\"],[0.6666666666666666,\"#ed7953\"],[0.7777777777777778,\"#fb9f3a\"],[0.8888888888888888,\"#fdca26\"],[1.0,\"#f0f921\"]]}],\"contourcarpet\":[{\"type\":\"contourcarpet\",\"colorbar\":{\"outlinewidth\":0,\"ticks\":\"\"}}],\"contour\":[{\"type\":\"contour\",\"colorbar\":{\"outlinewidth\":0,\"ticks\":\"\"},\"colorscale\":[[0.0,\"#0d0887\"],[0.1111111111111111,\"#46039f\"],[0.2222222222222222,\"#7201a8\"],[0.3333333333333333,\"#9c179e\"],[0.4444444444444444,\"#bd3786\"],[0.5555555555555556,\"#d8576b\"],[0.6666666666666666,\"#ed7953\"],[0.7777777777777778,\"#fb9f3a\"],[0.8888888888888888,\"#fdca26\"],[1.0,\"#f0f921\"]]}],\"surface\":[{\"type\":\"surface\",\"colorbar\":{\"outlinewidth\":0,\"ticks\":\"\"},\"colorscale\":[[0.0,\"#0d0887\"],[0.1111111111111111,\"#46039f\"],[0.2222222222222222,\"#7201a8\"],[0.3333333333333333,\"#9c179e\"],[0.4444444444444444,\"#bd3786\"],[0.5555555555555556,\"#d8576b\"],[0.6666666666666666,\"#ed7953\"],[0.7777777777777778,\"#fb9f3a\"],[0.8888888888888888,\"#fdca26\"],[1.0,\"#f0f921\"]]}],\"mesh3d\":[{\"type\":\"mesh3d\",\"colorbar\":{\"outlinewidth\":0,\"ticks\":\"\"}}],\"scatter\":[{\"fillpattern\":{\"fillmode\":\"overlay\",\"size\":10,\"solidity\":0.2},\"type\":\"scatter\"}],\"parcoords\":[{\"type\":\"parcoords\",\"line\":{\"colorbar\":{\"outlinewidth\":0,\"ticks\":\"\"}}}],\"scatterpolargl\":[{\"type\":\"scatterpolargl\",\"marker\":{\"colorbar\":{\"outlinewidth\":0,\"ticks\":\"\"}}}],\"bar\":[{\"error_x\":{\"color\":\"#2a3f5f\"},\"error_y\":{\"color\":\"#2a3f5f\"},\"marker\":{\"line\":{\"color\":\"#E5ECF6\",\"width\":0.5},\"pattern\":{\"fillmode\":\"overlay\",\"size\":10,\"solidity\":0.2}},\"type\":\"bar\"}],\"scattergeo\":[{\"type\":\"scattergeo\",\"marker\":{\"colorbar\":{\"outlinewidth\":0,\"ticks\":\"\"}}}],\"scatterpolar\":[{\"type\":\"scatterpolar\",\"marker\":{\"colorbar\":{\"outlinewidth\":0,\"ticks\":\"\"}}}],\"histogram\":[{\"marker\":{\"pattern\":{\"fillmode\":\"overlay\",\"size\":10,\"solidity\":0.2}},\"type\":\"histogram\"}],\"scattergl\":[{\"type\":\"scattergl\",\"marker\":{\"colorbar\":{\"outlinewidth\":0,\"ticks\":\"\"}}}],\"scatter3d\":[{\"type\":\"scatter3d\",\"line\":{\"colorbar\":{\"outlinewidth\":0,\"ticks\":\"\"}},\"marker\":{\"colorbar\":{\"outlinewidth\":0,\"ticks\":\"\"}}}],\"scattermapbox\":[{\"type\":\"scattermapbox\",\"marker\":{\"colorbar\":{\"outlinewidth\":0,\"ticks\":\"\"}}}],\"scatterternary\":[{\"type\":\"scatterternary\",\"marker\":{\"colorbar\":{\"outlinewidth\":0,\"ticks\":\"\"}}}],\"scattercarpet\":[{\"type\":\"scattercarpet\",\"marker\":{\"colorbar\":{\"outlinewidth\":0,\"ticks\":\"\"}}}],\"carpet\":[{\"aaxis\":{\"endlinecolor\":\"#2a3f5f\",\"gridcolor\":\"white\",\"linecolor\":\"white\",\"minorgridcolor\":\"white\",\"startlinecolor\":\"#2a3f5f\"},\"baxis\":{\"endlinecolor\":\"#2a3f5f\",\"gridcolor\":\"white\",\"linecolor\":\"white\",\"minorgridcolor\":\"white\",\"startlinecolor\":\"#2a3f5f\"},\"type\":\"carpet\"}],\"table\":[{\"cells\":{\"fill\":{\"color\":\"#EBF0F8\"},\"line\":{\"color\":\"white\"}},\"header\":{\"fill\":{\"color\":\"#C8D4E3\"},\"line\":{\"color\":\"white\"}},\"type\":\"table\"}],\"barpolar\":[{\"marker\":{\"line\":{\"color\":\"#E5ECF6\",\"width\":0.5},\"pattern\":{\"fillmode\":\"overlay\",\"size\":10,\"solidity\":0.2}},\"type\":\"barpolar\"}],\"pie\":[{\"automargin\":true,\"type\":\"pie\"}]},\"layout\":{\"autotypenumbers\":\"strict\",\"colorway\":[\"#636efa\",\"#EF553B\",\"#00cc96\",\"#ab63fa\",\"#FFA15A\",\"#19d3f3\",\"#FF6692\",\"#B6E880\",\"#FF97FF\",\"#FECB52\"],\"font\":{\"color\":\"#2a3f5f\"},\"hovermode\":\"closest\",\"hoverlabel\":{\"align\":\"left\"},\"paper_bgcolor\":\"white\",\"plot_bgcolor\":\"#E5ECF6\",\"polar\":{\"bgcolor\":\"#E5ECF6\",\"angularaxis\":{\"gridcolor\":\"white\",\"linecolor\":\"white\",\"ticks\":\"\"},\"radialaxis\":{\"gridcolor\":\"white\",\"linecolor\":\"white\",\"ticks\":\"\"}},\"ternary\":{\"bgcolor\":\"#E5ECF6\",\"aaxis\":{\"gridcolor\":\"white\",\"linecolor\":\"white\",\"ticks\":\"\"},\"baxis\":{\"gridcolor\":\"white\",\"linecolor\":\"white\",\"ticks\":\"\"},\"caxis\":{\"gridcolor\":\"white\",\"linecolor\":\"white\",\"ticks\":\"\"}},\"coloraxis\":{\"colorbar\":{\"outlinewidth\":0,\"ticks\":\"\"}},\"colorscale\":{\"sequential\":[[0.0,\"#0d0887\"],[0.1111111111111111,\"#46039f\"],[0.2222222222222222,\"#7201a8\"],[0.3333333333333333,\"#9c179e\"],[0.4444444444444444,\"#bd3786\"],[0.5555555555555556,\"#d8576b\"],[0.6666666666666666,\"#ed7953\"],[0.7777777777777778,\"#fb9f3a\"],[0.8888888888888888,\"#fdca26\"],[1.0,\"#f0f921\"]],\"sequentialminus\":[[0.0,\"#0d0887\"],[0.1111111111111111,\"#46039f\"],[0.2222222222222222,\"#7201a8\"],[0.3333333333333333,\"#9c179e\"],[0.4444444444444444,\"#bd3786\"],[0.5555555555555556,\"#d8576b\"],[0.6666666666666666,\"#ed7953\"],[0.7777777777777778,\"#fb9f3a\"],[0.8888888888888888,\"#fdca26\"],[1.0,\"#f0f921\"]],\"diverging\":[[0,\"#8e0152\"],[0.1,\"#c51b7d\"],[0.2,\"#de77ae\"],[0.3,\"#f1b6da\"],[0.4,\"#fde0ef\"],[0.5,\"#f7f7f7\"],[0.6,\"#e6f5d0\"],[0.7,\"#b8e186\"],[0.8,\"#7fbc41\"],[0.9,\"#4d9221\"],[1,\"#276419\"]]},\"xaxis\":{\"gridcolor\":\"white\",\"linecolor\":\"white\",\"ticks\":\"\",\"title\":{\"standoff\":15},\"zerolinecolor\":\"white\",\"automargin\":true,\"zerolinewidth\":2},\"yaxis\":{\"gridcolor\":\"white\",\"linecolor\":\"white\",\"ticks\":\"\",\"title\":{\"standoff\":15},\"zerolinecolor\":\"white\",\"automargin\":true,\"zerolinewidth\":2},\"scene\":{\"xaxis\":{\"backgroundcolor\":\"#E5ECF6\",\"gridcolor\":\"white\",\"linecolor\":\"white\",\"showbackground\":true,\"ticks\":\"\",\"zerolinecolor\":\"white\",\"gridwidth\":2},\"yaxis\":{\"backgroundcolor\":\"#E5ECF6\",\"gridcolor\":\"white\",\"linecolor\":\"white\",\"showbackground\":true,\"ticks\":\"\",\"zerolinecolor\":\"white\",\"gridwidth\":2},\"zaxis\":{\"backgroundcolor\":\"#E5ECF6\",\"gridcolor\":\"white\",\"linecolor\":\"white\",\"showbackground\":true,\"ticks\":\"\",\"zerolinecolor\":\"white\",\"gridwidth\":2}},\"shapedefaults\":{\"line\":{\"color\":\"#2a3f5f\"}},\"annotationdefaults\":{\"arrowcolor\":\"#2a3f5f\",\"arrowhead\":0,\"arrowwidth\":1},\"geo\":{\"bgcolor\":\"white\",\"landcolor\":\"#E5ECF6\",\"subunitcolor\":\"white\",\"showland\":true,\"showlakes\":true,\"lakecolor\":\"white\"},\"title\":{\"x\":0.05},\"mapbox\":{\"style\":\"light\"}}},\"xaxis\":{\"anchor\":\"y\",\"domain\":[0.0,0.45],\"tickangle\":0,\"mirror\":true,\"ticks\":\"outside\",\"showline\":true,\"linecolor\":\"black\",\"gridcolor\":\"lightgrey\"},\"yaxis\":{\"anchor\":\"x\",\"domain\":[0.0,1.0],\"range\":[0,200],\"mirror\":true,\"ticks\":\"outside\",\"showline\":true,\"linecolor\":\"black\",\"gridcolor\":\"lightgrey\",\"title\":{\"text\":\"Position errors (mm)\"}},\"xaxis2\":{\"anchor\":\"y2\",\"domain\":[0.55,1.0],\"mirror\":true,\"ticks\":\"outside\",\"showline\":true,\"linecolor\":\"black\",\"gridcolor\":\"lightgrey\"},\"yaxis2\":{\"anchor\":\"x2\",\"domain\":[0.0,1.0],\"mirror\":true,\"ticks\":\"outside\",\"showline\":true,\"linecolor\":\"black\",\"gridcolor\":\"lightgrey\",\"title\":{\"text\":\"Orientation errors (deg)\"}},\"font\":{\"size\":15},\"legend\":{\"font\":{\"size\":13},\"yanchor\":\"top\",\"y\":1.13,\"xanchor\":\"left\",\"x\":0.0,\"orientation\":\"h\"},\"barmode\":\"group\",\"plot_bgcolor\":\"white\",\"title\":{\"text\":\"Position and Orientation Mean Absolute Errors\"},\"width\":1200,\"height\":500},                        {\"responsive\": true}                    ).then(function(){\n",
       "                            \n",
       "var gd = document.getElementById('e5806250-6305-4ac9-9237-436c8a1464e2');\n",
       "var x = new MutationObserver(function (mutations, observer) {{\n",
       "        var display = window.getComputedStyle(gd).display;\n",
       "        if (!display || display === 'none') {{\n",
       "            console.log([gd, 'removed!']);\n",
       "            Plotly.purge(gd);\n",
       "            observer.disconnect();\n",
       "        }}\n",
       "}});\n",
       "\n",
       "// Listen for the removal of the full notebook cells\n",
       "var notebookContainer = gd.closest('#notebook-container');\n",
       "if (notebookContainer) {{\n",
       "    x.observe(notebookContainer, {childList: true});\n",
       "}}\n",
       "\n",
       "// Listen for the clearing of the current output cell\n",
       "var outputEl = gd.closest('.output');\n",
       "if (outputEl) {{\n",
       "    x.observe(outputEl, {childList: true});\n",
       "}}\n",
       "\n",
       "                        })                };                });            </script>        </div>"
      ]
     },
     "metadata": {},
     "output_type": "display_data"
    }
   ],
   "source": [
    "from plotly.subplots import make_subplots\n",
    "import plotly.graph_objects as go\n",
    "\n",
    "networks = [\"MLP(R)\", \"MLP(T)\", \"ResMLP(R)\", \"ResMLP(T)\", \"DenseMLP(R)\", \"DenseMLP(T)\"]\n",
    "plot_names_1 = [\"$x$\", \"$y$\", \"$z$\"]\n",
    "plot_names_2 = [\"$ro$\", \"$pi$\", \"$ya$\"]\n",
    "#data_plot = np.array(data_plot)\n",
    "#colors = [\"orange\", \"lightsalmon\", \"indianred\", \"lightsalmon\", \"indianred\", \"blue\", \"indianred\", \"cadetblue\", \"indianred\", \"darkgray\"]\n",
    "colors = [\n",
    "    '#1f77b4',  # muted blue\n",
    "    '#ff7f0e',  # safety orange\n",
    "    '#2ca02c',  # cooked asparagus green\n",
    "    '#d62728',  # brick red\n",
    "    '#9467bd',  # muted purple\n",
    "    '#8c564b',  # chestnut brown\n",
    "    '#e377c2',  # raspberry yogurt pink\n",
    "    '#7f7f7f',  # middle gray\n",
    "    '#bcbd22',  # curry yellow-green\n",
    "    '#17becf'   # blue-teal\n",
    "]\n",
    "neurons = 1024\n",
    "\n",
    "#fig = go.Figure()\n",
    "\n",
    "fig = make_subplots(rows=1, cols=2) #, subplot_titles=(\"Position\", \"Orientation\"))\n",
    "\n",
    "### plot the position errors\n",
    "for i in range(6):\n",
    "  fig.add_trace(go.Bar(\n",
    "      x=plot_names_1,\n",
    "      y=data_plot_pos[i,:],\n",
    "      name=networks[i],\n",
    "      marker_color=colors[i],\n",
    "      #text=data_plot[:,i],\n",
    "      #textposition='auto',\n",
    "  ), row=1, col=1)\n",
    "\n",
    "\n",
    "  fig.add_trace(go.Bar(\n",
    "      x=plot_names_2,\n",
    "      y=data_plot_ori[i,:],\n",
    "      #name=networks[i],\n",
    "      marker_color=colors[i],\n",
    "      #text=data_plot[:,i],\n",
    "      #textposition='auto',\n",
    "      showlegend=False\n",
    "  ), row=1, col=2)\n",
    "\n",
    "\n",
    "\n",
    "# Here we modify the tickangle of the xaxis, resulting in rotated labels.\n",
    "fig.update_layout(barmode='group',\n",
    "                  plot_bgcolor='white',\n",
    "                  xaxis_tickangle=0,\n",
    "                  font=dict(size=15),\n",
    "                  #legend_title_text='Neurons:',\n",
    "                  title='Position and Orientation Mean Absolute Errors',\n",
    "                  #xaxis_title='Position',\n",
    "                  #yaxis_title='Position errors (mm)',\n",
    "                  yaxis_range=[0,200],\n",
    "                  width=1200,\n",
    "                  height=500,\n",
    "                  legend=dict(\n",
    "                      yanchor=\"top\",\n",
    "                      y=1.13,\n",
    "                      xanchor=\"left\",\n",
    "                      x=0.0,\n",
    "                      orientation=\"h\",\n",
    "                      font_size = 13\n",
    "                  )\n",
    ")\n",
    "\n",
    "fig.update_xaxes(\n",
    "    mirror=True,\n",
    "    ticks='outside',\n",
    "    showline=True,\n",
    "    linecolor='black',\n",
    "    gridcolor='lightgrey',\n",
    ")\n",
    "fig.update_yaxes(\n",
    "    mirror=True,\n",
    "    ticks='outside',\n",
    "    showline=True,\n",
    "    linecolor='black',\n",
    "    gridcolor='lightgrey'\n",
    ")\n",
    "\n",
    "fig.update_yaxes(title_text=\"Position errors (mm)\", row=1, col=1)\n",
    "fig.update_yaxes(title_text=\"Orientation errors (deg)\", row=1, col=2)\n",
    "\n",
    "fig.update_traces(texttemplate='%{y:.1f}', textposition='outside', textfont_size=10, textangle=0)\n",
    "fig.show()\n",
    "#fig.write_image(\"../ikresults/all_errors_1.pdf\", engine=\"kaleido\")\n",
    "#fig.to_image(format=\"pdf\", engine=\"kaleido\")\n"
   ]
  },
  {
   "cell_type": "code",
   "execution_count": null,
   "id": "02edf46c-6598-46df-977e-86574c144754",
   "metadata": {},
   "outputs": [],
   "source": []
  }
 ],
 "metadata": {
  "kernelspec": {
   "display_name": "Python 3 (ipykernel)",
   "language": "python",
   "name": "python3"
  },
  "language_info": {
   "codemirror_mode": {
    "name": "ipython",
    "version": 3
   },
   "file_extension": ".py",
   "mimetype": "text/x-python",
   "name": "python",
   "nbconvert_exporter": "python",
   "pygments_lexer": "ipython3",
   "version": "3.11.5"
  }
 },
 "nbformat": 4,
 "nbformat_minor": 5
}
